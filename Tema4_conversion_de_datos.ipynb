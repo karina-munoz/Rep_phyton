{
  "nbformat": 4,
  "nbformat_minor": 0,
  "metadata": {
    "colab": {
      "name": "Tema4-conversion de datos.ipynb",
      "provenance": [],
      "authorship_tag": "ABX9TyN/qFPU1TE6X5WsBOAlyPfJ",
      "include_colab_link": true
    },
    "kernelspec": {
      "name": "python3",
      "display_name": "Python 3"
    }
  },
  "cells": [
    {
      "cell_type": "markdown",
      "metadata": {
        "id": "view-in-github",
        "colab_type": "text"
      },
      "source": [
        "<a href=\"https://colab.research.google.com/github/karina-munoz/Rep_phyton/blob/main/Tema4_conversion_de_datos.ipynb\" target=\"_parent\"><img src=\"https://colab.research.google.com/assets/colab-badge.svg\" alt=\"Open In Colab\"/></a>"
      ]
    },
    {
      "cell_type": "code",
      "metadata": {
        "colab": {
          "base_uri": "https://localhost:8080/"
        },
        "id": "USXMmNWlKI9j",
        "outputId": "1b13ef6d-2615-4bc8-88bf-ae89a3d66e86"
      },
      "source": [
        "a = 3\r\n",
        "b = \"12\"\r\n",
        "c = a* b\r\n",
        "print(c)#Se repite la cadena de strings 3 veces"
      ],
      "execution_count": 1,
      "outputs": [
        {
          "output_type": "stream",
          "text": [
            "121212\n"
          ],
          "name": "stdout"
        }
      ]
    },
    {
      "cell_type": "code",
      "metadata": {
        "colab": {
          "base_uri": "https://localhost:8080/"
        },
        "id": "vFiayMa2LEF5",
        "outputId": "89d9fda0-995f-4cd1-8290-41afe11b434b"
      },
      "source": [
        "r = \"12\"\r\n",
        "print(type(r))\r\n",
        "s = int(r) #CAMBIAMOS DE UNA VARIABLE TIPO STRING A ENTERO\r\n",
        "print(type(s))\r\n",
        "\r\n",
        "#Otra manera, con una sola variable:\r\n",
        "r = int(r)\r\n",
        "print(type(r))\r\n",
        "\r\n",
        "t = r + 2\r\n",
        "print(t)"
      ],
      "execution_count": 8,
      "outputs": [
        {
          "output_type": "stream",
          "text": [
            "<class 'str'>\n",
            "<class 'int'>\n",
            "<class 'int'>\n",
            "14\n"
          ],
          "name": "stdout"
        }
      ]
    },
    {
      "cell_type": "code",
      "metadata": {
        "colab": {
          "base_uri": "https://localhost:8080/"
        },
        "id": "PVnIZyj3NClJ",
        "outputId": "3e5de135-3506-46aa-c02f-941e4cd609ac"
      },
      "source": [
        "r = 12\r\n",
        "print(type(r))\r\n",
        "r = str(r) #CAMBIAMOS DE UNA VARIABLE TIPO ENTERO A STRING\r\n",
        "print(type(r))\r\n",
        "\r\n",
        "s = \"Número: \" + r #Concatenando strings\r\n",
        "print(s)"
      ],
      "execution_count": 12,
      "outputs": [
        {
          "output_type": "stream",
          "text": [
            "<class 'int'>\n",
            "<class 'str'>\n",
            "Número: 12\n"
          ],
          "name": "stdout"
        }
      ]
    },
    {
      "cell_type": "code",
      "metadata": {
        "colab": {
          "base_uri": "https://localhost:8080/"
        },
        "id": "oKukK7xpOBQa",
        "outputId": "0804b508-443a-4c71-d306-27807d00ccf9"
      },
      "source": [
        "r = \"12.7\"\r\n",
        "print(type(r))\r\n",
        "r = float(r) #CAMBIAMOS DE UNA VARIABLE TIPO STRING A FLOAT\r\n",
        "print(type(r))\r\n",
        "\r\n",
        "s = r+2\r\n",
        "print(s)"
      ],
      "execution_count": 13,
      "outputs": [
        {
          "output_type": "stream",
          "text": [
            "<class 'str'>\n",
            "<class 'float'>\n",
            "14.7\n"
          ],
          "name": "stdout"
        }
      ]
    },
    {
      "cell_type": "code",
      "metadata": {
        "colab": {
          "base_uri": "https://localhost:8080/"
        },
        "id": "SJLM7bPMOmeM",
        "outputId": "67dcfae3-c27d-43a4-9aa5-f0a468597a79"
      },
      "source": [
        "r = 12.7\r\n",
        "print(type(r))\r\n",
        "r = str(r) #CAMBIAMOS DE UNA VARIABLE TIPO FLOAT A STRING\r\n",
        "print(type(r))\r\n",
        "\r\n",
        "s = \"Número: \" + r #Concatenando strings\r\n",
        "print(s)"
      ],
      "execution_count": 15,
      "outputs": [
        {
          "output_type": "stream",
          "text": [
            "<class 'float'>\n",
            "<class 'str'>\n",
            "Número: 12.7\n"
          ],
          "name": "stdout"
        }
      ]
    },
    {
      "cell_type": "code",
      "metadata": {
        "colab": {
          "base_uri": "https://localhost:8080/"
        },
        "id": "FIO68lzSPYkC",
        "outputId": "c8093d65-9f38-4200-98f3-a1530328e225"
      },
      "source": [
        "Edad = input(\"Introduce tu edad: \")\r\n",
        "print(type(Edad))\r\n",
        "Edad_num =float(Edad)\r\n",
        "print(type(Edad_num))\r\n",
        "\r\n",
        "#FORMA COMPACTA:\r\n",
        "Edad = float(input(\"Introduce tu edad: \"))\r\n",
        "print(type(Edad))\r\n",
        "\r\n",
        "Edad_nueva = Edad * 2 - 2\r\n",
        "print(Edad_nueva)"
      ],
      "execution_count": 19,
      "outputs": [
        {
          "output_type": "stream",
          "text": [
            "Introduce tu edad: 18\n",
            "<class 'str'>\n",
            "<class 'float'>\n",
            "Introduce tu edad: 18\n",
            "<class 'float'>\n",
            "34.0\n"
          ],
          "name": "stdout"
        }
      ]
    }
  ]
}