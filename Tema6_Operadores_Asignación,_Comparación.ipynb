{
  "nbformat": 4,
  "nbformat_minor": 0,
  "metadata": {
    "colab": {
      "name": "Tema6-Operadores Asignación, Comparación",
      "provenance": [],
      "authorship_tag": "ABX9TyOPZmmQb5PCQXf3r3Fg0TBl",
      "include_colab_link": true
    },
    "kernelspec": {
      "name": "python3",
      "display_name": "Python 3"
    }
  },
  "cells": [
    {
      "cell_type": "markdown",
      "metadata": {
        "id": "view-in-github",
        "colab_type": "text"
      },
      "source": [
        "<a href=\"https://colab.research.google.com/github/karina-munoz/Rep_phyton/blob/main/Tema6_Operadores_Asignaci%C3%B3n%2C_Comparaci%C3%B3n.ipynb\" target=\"_parent\"><img src=\"https://colab.research.google.com/assets/colab-badge.svg\" alt=\"Open In Colab\"/></a>"
      ]
    },
    {
      "cell_type": "markdown",
      "metadata": {
        "id": "vfy7qgKqalcF"
      },
      "source": [
        "#Operadores de asignación"
      ]
    },
    {
      "cell_type": "code",
      "metadata": {
        "colab": {
          "base_uri": "https://localhost:8080/"
        },
        "id": "fX9r4-JraqXP",
        "outputId": "5ac50afc-7257-4f9e-8ea5-feaffaa4b5d6"
      },
      "source": [
        "# Operadores de asignacion\r\n",
        "\r\n",
        "A = 5\r\n",
        "\r\n",
        "# Suma en asignacion\r\n",
        "\r\n",
        "A += 3 # Equivale a A = A + 3\r\n",
        "\r\n",
        "# Resta en asignacion\r\n",
        "\r\n",
        "A -= 2 # Equivale a A = A - 2\r\n",
        "\r\n",
        "# Multiplicacion en asignacion\r\n",
        "\r\n",
        "A *= 2 # Equivale a A = A * 2\r\n",
        "\r\n",
        "# Division en asignacion \r\n",
        "\r\n",
        "A /= 4 # Equivale a A = A / 4\r\n",
        "\r\n",
        "# Potencia en asignacion\r\n",
        "\r\n",
        "A **= 3 # Equivale a A = A ** 3\r\n",
        "\r\n",
        "print(A)"
      ],
      "execution_count": 1,
      "outputs": [
        {
          "output_type": "stream",
          "text": [
            "27.0\n"
          ],
          "name": "stdout"
        }
      ]
    },
    {
      "cell_type": "markdown",
      "metadata": {
        "id": "abpSStipic32"
      },
      "source": [
        "#Operador módulo"
      ]
    },
    {
      "cell_type": "code",
      "metadata": {
        "colab": {
          "base_uri": "https://localhost:8080/"
        },
        "id": "PTBzyyZVifA3",
        "outputId": "b211c3fe-8d83-4f49-aaf8-ba8bc38e2e80"
      },
      "source": [
        "# Operador modulo\r\n",
        "\r\n",
        "# Su operador es %\r\n",
        "# Es una division pero en vez de darte el cociente\r\n",
        "# te da el residuo\r\n",
        "\r\n",
        "B = 10 % 4\r\n",
        "print(B)\r\n",
        "\r\n",
        "# Modulo en asignacion\r\n",
        "\r\n",
        "A = 20\r\n",
        "\r\n",
        "A %= 4 # Equivale a A = A % 4\r\n",
        "\r\n",
        "print(A)"
      ],
      "execution_count": 2,
      "outputs": [
        {
          "output_type": "stream",
          "text": [
            "2\n",
            "0\n"
          ],
          "name": "stdout"
        }
      ]
    },
    {
      "cell_type": "markdown",
      "metadata": {
        "id": "tltJG9Stiuqk"
      },
      "source": [
        "#Operadores de comparación"
      ]
    },
    {
      "cell_type": "code",
      "metadata": {
        "colab": {
          "base_uri": "https://localhost:8080/"
        },
        "id": "z0YA_7zLiziE",
        "outputId": "1a794661-3556-4744-988a-e0e664e842e7"
      },
      "source": [
        "# Operadores de comparacion\r\n",
        "\r\n",
        "'''\r\n",
        "and, or, not, >, <, ==, >=, <=, !=\r\n",
        "\r\n",
        "JERARQUIA\r\n",
        "1. ()\r\n",
        "2. **\r\n",
        "3. *, /, %, not\r\n",
        "4. +, -, and\r\n",
        "5. >, <, ==, >=, <=, !=, or\r\n",
        "\r\n",
        "\r\n",
        "and: si ambas expresiones tienen el valor True (cierto) da como resultado True\r\n",
        "or: con que mínimo una expresion tenga el valor True (cierto) da como resultado True\r\n",
        "not: cambia el valor de True (cierto) a False (falso) y viceversa \r\n",
        "'''\r\n",
        "\r\n",
        "A = 1\r\n",
        "B = 2\r\n",
        "C = 3\r\n",
        "\r\n",
        "D = not((A > C) or (C < B))\r\n",
        "print(D)\r\n",
        "\r\n",
        "# operador \"diferente\" !=\r\n",
        "\r\n",
        "E = A != 2 # Como A es diferente de dos el operador \"Diferente\" da como resultado el valor de True\r\n",
        "print(E)\r\n",
        "\r\n",
        "# Operador \"igualdad\" ==\r\n",
        "\r\n",
        "F = A == 1 # Como A es igual que uno el operador \"igualdad\" da como resultado el valor de True\r\n",
        "print(F)"
      ],
      "execution_count": 3,
      "outputs": [
        {
          "output_type": "stream",
          "text": [
            "True\n",
            "True\n",
            "True\n"
          ],
          "name": "stdout"
        }
      ]
    }
  ]
}