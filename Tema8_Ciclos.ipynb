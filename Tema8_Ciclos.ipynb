{
  "nbformat": 4,
  "nbformat_minor": 0,
  "metadata": {
    "colab": {
      "name": "Tema8-Ciclos.ipynb",
      "provenance": [],
      "authorship_tag": "ABX9TyObogvpLHoj474DO+l4Vn9X",
      "include_colab_link": true
    },
    "kernelspec": {
      "name": "python3",
      "display_name": "Python 3"
    }
  },
  "cells": [
    {
      "cell_type": "markdown",
      "metadata": {
        "id": "view-in-github",
        "colab_type": "text"
      },
      "source": [
        "<a href=\"https://colab.research.google.com/github/karina-munoz/Rep_phyton/blob/main/Tema8_Ciclos.ipynb\" target=\"_parent\"><img src=\"https://colab.research.google.com/assets/colab-badge.svg\" alt=\"Open In Colab\"/></a>"
      ]
    },
    {
      "cell_type": "markdown",
      "metadata": {
        "id": "cbFUL4qRLCTP"
      },
      "source": [
        "#Ciclos"
      ]
    },
    {
      "cell_type": "code",
      "metadata": {
        "colab": {
          "base_uri": "https://localhost:8080/"
        },
        "id": "p71mRKSaLEf4",
        "outputId": "2d6cd361-11d0-4601-ad94-9f3980609238"
      },
      "source": [
        "# Un ciclo es un código que se repite varias veces hasta que se deja \r\n",
        "# de cumplir una condicion\r\n",
        "\r\n",
        "# Iteracion: es el numero de veces que se ha repetido el ciclo\r\n",
        "\r\n",
        "# Ciclo while\r\n",
        "\r\n",
        "# Solicitar un numero par al usuario\r\n",
        "\r\n",
        "Numero = int( input(\"Ingresa un numero par \") )\r\n",
        "\r\n",
        "while Numero % 2 != 0:\r\n",
        "  Numero = int( input(\"DIJE QUE INGRESARAS UN NUMERO PAR!!! \") )\r\n",
        "\r\n",
        "print(\"El numero par es:\", Numero)"
      ],
      "execution_count": 2,
      "outputs": [
        {
          "output_type": "stream",
          "text": [
            "Ingresa un numero par 3\n",
            "DIJE QUE INGRESARAS UN NUMERO PAR!!! 6\n",
            "El numero par es: 6\n"
          ],
          "name": "stdout"
        }
      ]
    },
    {
      "cell_type": "code",
      "metadata": {
        "colab": {
          "base_uri": "https://localhost:8080/"
        },
        "id": "JvQc-HcQTkTd",
        "outputId": "08c36093-7944-49f7-aef5-3c1e5db6e5d9"
      },
      "source": [
        "# Imprimiendo numeros del 1 al 5\r\n",
        "\r\n",
        "i = 1\r\n",
        "while i <= 5:\r\n",
        "  print(i)\r\n",
        "  i += 1 # Equivale a i = i + 1"
      ],
      "execution_count": 3,
      "outputs": [
        {
          "output_type": "stream",
          "text": [
            "1\n",
            "2\n",
            "3\n",
            "4\n",
            "5\n"
          ],
          "name": "stdout"
        }
      ]
    },
    {
      "cell_type": "code",
      "metadata": {
        "colab": {
          "base_uri": "https://localhost:8080/"
        },
        "id": "HumBwQ8uTtkl",
        "outputId": "894f490e-8dca-4dbf-fad0-4545229f7725"
      },
      "source": [
        "# Ciclo for \r\n",
        "\r\n",
        "# ciclo donde el numero de iteraciones normalmente es conocido\r\n",
        "# la variable i toma un valor de la lista\r\n",
        "# en cada iteracion\r\n",
        "\r\n",
        "# Imprimir numeros del 1 al 5\r\n",
        "\r\n",
        "for i in [1,2,3,4,5]:\r\n",
        "  print(i)"
      ],
      "execution_count": 4,
      "outputs": [
        {
          "output_type": "stream",
          "text": [
            "1\n",
            "2\n",
            "3\n",
            "4\n",
            "5\n"
          ],
          "name": "stdout"
        }
      ]
    },
    {
      "cell_type": "code",
      "metadata": {
        "colab": {
          "base_uri": "https://localhost:8080/"
        },
        "id": "CDEiYnFbTwoa",
        "outputId": "b276cc46-7529-4ee6-a7d4-53a4bd745a4d"
      },
      "source": [
        "# Funcion range crea un arreglo de numeros\r\n",
        "# range(Inicio, Termina, incremento)\r\n",
        "# range(num) el arreglo va desde cero hasta (num - 1), de uno en uno\r\n",
        "\r\n",
        "# Creando una lista con numeros del 0 al 10\r\n",
        "y = range(11)\r\n",
        "print( list(y) )\r\n",
        "\r\n",
        "# Sumatoria de los elementos en x\r\n",
        "x = [1,2,3,5,5]\r\n",
        "Suma = 0\r\n",
        "\r\n",
        "for i in x:\r\n",
        "  Suma += i\r\n",
        "\r\n",
        "print(Suma)\r\n",
        "\r\n",
        "# Sumando de una forma diferente\r\n",
        "\r\n",
        "Suma2 = 0\r\n",
        "for i in range(5):\r\n",
        "  Suma2 +=  x[i]\r\n",
        "\r\n",
        "print(Suma2)"
      ],
      "execution_count": 5,
      "outputs": [
        {
          "output_type": "stream",
          "text": [
            "[0, 1, 2, 3, 4, 5, 6, 7, 8, 9, 10]\n",
            "16\n",
            "16\n"
          ],
          "name": "stdout"
        }
      ]
    },
    {
      "cell_type": "code",
      "metadata": {
        "colab": {
          "base_uri": "https://localhost:8080/"
        },
        "id": "q7dLpmfyWxBm",
        "outputId": "24000dd5-a588-4698-90ac-39cd48c03927"
      },
      "source": [
        "x = [5,4,3,2,1]\r\n",
        "\r\n",
        "tamaño = len(x)\r\n",
        "\r\n",
        "print(\"El tamaño de la lista es: \", tamaño)\r\n",
        "\r\n",
        "for i in range(tamaño):\r\n",
        "  if x[i] == 4:\r\n",
        "    print(\"El numero 4 esta en la posicion\",i)\r\n",
        "    break\r\n",
        "\r\n",
        "\r\n",
        "\r\n",
        "print(\"El numero de iteraciones fue: \", i + 1)"
      ],
      "execution_count": 6,
      "outputs": [
        {
          "output_type": "stream",
          "text": [
            "El tamaño de la lista es:  5\n",
            "El numero 4 esta en la posicion 1\n",
            "El numero de iteraciones fue:  2\n"
          ],
          "name": "stdout"
        }
      ]
    },
    {
      "cell_type": "markdown",
      "metadata": {
        "id": "fY31sEQpW1oP"
      },
      "source": [
        "#Tarea\r\n",
        "\r\n",
        "\r\n",
        "Multiplicar todos los elementos de una matriz o lista de listas (de mínimo 3x3) por un numero (puede ser el que sea menos 1 y 0) mediante ciclos y despues imprimir la nueva lista, pueden usar más de un ciclo o ciclos dentro de otros ciclos, pero mínimo deben de usar un ciclo"
      ]
    },
    {
      "cell_type": "code",
      "metadata": {
        "colab": {
          "base_uri": "https://localhost:8080/"
        },
        "id": "_LTS5vkQW9ph",
        "outputId": "66e86978-8579-4318-f689-4884f84ad531"
      },
      "source": [
        "A = [ [1,2,3],[4,5,6],[7,8,9] ]\r\n",
        "print(A)\r\n",
        "B=A\r\n",
        "for i in range(3):\r\n",
        "  for j in range(3):\r\n",
        "    B[i][j] = 8*B[i][j]\r\n",
        "\r\n",
        "print(A)"
      ],
      "execution_count": 11,
      "outputs": [
        {
          "output_type": "stream",
          "text": [
            "[[1, 2, 3], [4, 5, 6], [7, 8, 9]]\n",
            "[[8, 16, 24], [32, 40, 48], [56, 64, 72]]\n"
          ],
          "name": "stdout"
        }
      ]
    }
  ]
}