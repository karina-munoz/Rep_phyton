{
  "nbformat": 4,
  "nbformat_minor": 0,
  "metadata": {
    "colab": {
      "name": "Tema10-Archivos.ipynb",
      "provenance": [],
      "authorship_tag": "ABX9TyMECAtIk0cUyhFJ+RSgqJL+",
      "include_colab_link": true
    },
    "kernelspec": {
      "name": "python3",
      "display_name": "Python 3"
    }
  },
  "cells": [
    {
      "cell_type": "markdown",
      "metadata": {
        "id": "view-in-github",
        "colab_type": "text"
      },
      "source": [
        "<a href=\"https://colab.research.google.com/github/karina-munoz/Rep_phyton/blob/main/Tema10_Archivos.ipynb\" target=\"_parent\"><img src=\"https://colab.research.google.com/assets/colab-badge.svg\" alt=\"Open In Colab\"/></a>"
      ]
    },
    {
      "cell_type": "markdown",
      "metadata": {
        "id": "gsO1LApij8Og"
      },
      "source": [
        "#Archivos"
      ]
    },
    {
      "cell_type": "code",
      "metadata": {
        "id": "I1IHq5PAkAJI"
      },
      "source": [
        "# EJECUTE PRIMERO ESTA CELDA PARA QUE NO HAYA ERRORES EN LAS DEMÁS\r\n",
        "\r\n",
        "\r\n",
        "fichero = open(\"ejemplo.txt\", 'w')\r\n",
        "fichero.write(\"Contenido a escribir \")\r\n",
        "fichero.write(\"Hola\")\r\n",
        "fichero.close()\r\n",
        "\r\n",
        "\r\n",
        "# No debe imprimir nada en pantalla\r\n",
        "# Solo va a crear un archivo .txt"
      ],
      "execution_count": 2,
      "outputs": []
    },
    {
      "cell_type": "code",
      "metadata": {
        "colab": {
          "base_uri": "https://localhost:8080/"
        },
        "id": "KuIF4mNWl2Tx",
        "outputId": "3fe2d041-ad68-4838-86c4-71f21f485f71"
      },
      "source": [
        "fichero = open('ejemplo.txt')  #Por defecto está en modo 'r' para solo lectura del archivo\r\n",
        "\r\n",
        "print(fichero.read())\r\n",
        "print(fichero.readline())\r\n",
        "\r\n",
        "\r\n",
        "fichero.close()\r\n",
        "\r\n",
        "\r\n",
        "#seguido de una coma en el open después del nombre del archivo\r\n",
        "\r\n",
        "#‘r’: Por defecto, para leer el fichero.\r\n",
        "#‘w’: Para escribir en el fichero.\r\n",
        "#‘x’: Para la creación, fallando si ya existe.\r\n",
        "#‘a’: Para añadir contenido a un fichero existente.\r\n",
        "#‘b’: Para abrir en modo binario."
      ],
      "execution_count": 3,
      "outputs": [
        {
          "output_type": "stream",
          "text": [
            "Contenido a escribir Hola\n",
            "\n"
          ],
          "name": "stdout"
        }
      ]
    },
    {
      "cell_type": "code",
      "metadata": {
        "id": "_oWne5OQnVd4"
      },
      "source": [
        "# Este código ingresa una lista dentro un archivo de texto\r\n",
        "\r\n",
        "# No importa si tiene el mismo nombre que el anterior archivo, puesto que lo destruye y crea uno nuevo\r\n",
        "\r\n",
        "lista = [\"Manzana\\n\", \"Pera\\n\", \"Plátano\\n\"]\r\n",
        "with open(\"ejemplo.txt\", 'w') as fichero:\r\n",
        "     fichero.writelines(lista)\r\n",
        "\r\n",
        "fichero.close()     # NUNCA olvides cerrar el archivo después de usarlo\r\n",
        "\r\n",
        "# El código no imprime nada en pantalla"
      ],
      "execution_count": 4,
      "outputs": []
    },
    {
      "cell_type": "code",
      "metadata": {
        "colab": {
          "base_uri": "https://localhost:8080/"
        },
        "id": "uv7KRDdlneNq",
        "outputId": "66ff305f-8d6b-4861-bfbd-79d312c5b252"
      },
      "source": [
        "# Este código imprime en pantalla el anterior arreglo escrito (renglón por renglón)\r\n",
        "\r\n",
        "#La función \"strip ()\" retorna una copia de una cadena\r\n",
        "# con ciertos caracteres...\r\n",
        "\r\n",
        "with open('ejemplo.txt','r') as stop_words: \r\n",
        "    lineas = [linea.strip() for linea in stop_words]\r\n",
        "\r\n",
        "for linea in lineas:\r\n",
        "    print(linea)"
      ],
      "execution_count": 5,
      "outputs": [
        {
          "output_type": "stream",
          "text": [
            "Manzana\n",
            "Pera\n",
            "Plátano\n"
          ],
          "name": "stdout"
        }
      ]
    },
    {
      "cell_type": "code",
      "metadata": {
        "id": "UVHuaEA_n5eV"
      },
      "source": [
        "archivo = open(\"texto.txt\",\"w\")\r\n",
        "\r\n",
        "listado = [\"(2,9)\\n\", \"(5,1)\\n\", \"(7,3)\\n\"]\r\n",
        "\r\n"
      ],
      "execution_count": 34,
      "outputs": []
    },
    {
      "cell_type": "code",
      "metadata": {
        "id": "mSBBy5K6qVVr"
      },
      "source": [
        "with open('texto.txt','r') as stop_words: \r\n",
        "    archivo.writelines(listado)\r\n"
      ],
      "execution_count": 35,
      "outputs": []
    },
    {
      "cell_type": "code",
      "metadata": {
        "colab": {
          "base_uri": "https://localhost:8080/"
        },
        "id": "WzgBiryEried",
        "outputId": "e2910883-ba87-4c65-a096-2640aad18ac9"
      },
      "source": [
        "with open('texto.txt','r') as stop_words: \r\n",
        "    lineas = [linea.strip() for linea in stop_words]\r\n",
        "\r\n",
        "for linea in lineas:\r\n",
        "    print(linea)"
      ],
      "execution_count": 36,
      "outputs": [
        {
          "output_type": "stream",
          "text": [
            "(2,9)\n",
            "(5,1)\n",
            "(7,3)\n",
            "(2,9)\n",
            "(5,1)\n",
            "(7,3)\n"
          ],
          "name": "stdout"
        }
      ]
    }
  ]
}