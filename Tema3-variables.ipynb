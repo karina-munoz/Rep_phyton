{
  "nbformat": 4,
  "nbformat_minor": 0,
  "metadata": {
    "colab": {
      "name": "Untitled1.ipynb",
      "provenance": [],
      "authorship_tag": "ABX9TyPPFLMSOgY5YkIovbLv+BZC",
      "include_colab_link": true
    },
    "kernelspec": {
      "name": "python3",
      "display_name": "Python 3"
    }
  },
  "cells": [
    {
      "cell_type": "markdown",
      "metadata": {
        "id": "view-in-github",
        "colab_type": "text"
      },
      "source": [
        "<a href=\"https://colab.research.google.com/github/karina-munoz/Rep_phyton/blob/main/Tema3-variables.ipynb\" target=\"_parent\"><img src=\"https://colab.research.google.com/assets/colab-badge.svg\" alt=\"Open In Colab\"/></a>"
      ]
    },
    {
      "cell_type": "code",
      "metadata": {
        "colab": {
          "base_uri": "https://localhost:8080/"
        },
        "id": "FDWQ6nSkAwdy",
        "outputId": "41c5789b-dfe1-4beb-9e39-430e9e77bb80"
      },
      "source": [
        "#VARIABLES\r\n",
        "\r\n",
        "numero = 17\r\n",
        "decimal = 0.7\r\n",
        "texto = 'Texto' #también se puede: \"Texto\"\r\n",
        "booleanos = True #Primer letra en mayúscula!!\r\n",
        "\r\n",
        "print(numero)\r\n",
        "print(type(numero))\r\n",
        "\r\n",
        "print(decimal)\r\n",
        "print(type(decimal))\r\n",
        "\r\n",
        "print(texto)\r\n",
        "print(type(texto))\r\n",
        "\r\n",
        "print(booleanos)\r\n",
        "print(type(booleanos))"
      ],
      "execution_count": 3,
      "outputs": [
        {
          "output_type": "stream",
          "text": [
            "17\n",
            "<class 'int'>\n",
            "0.7\n",
            "<class 'float'>\n",
            "Texto\n",
            "<class 'str'>\n",
            "True\n",
            "<class 'bool'>\n"
          ],
          "name": "stdout"
        }
      ]
    },
    {
      "cell_type": "code",
      "metadata": {
        "id": "osib9bCHCx5f"
      },
      "source": [
        "#Se pueden utilizar tildes y demás caracteres\r\n",
        "úöññ = 10\r\n",
        "日本語 = 0\r\n",
        "π = 3.1416\r\n",
        "\r\n",
        "#SI SE PUEDE\r\n",
        "algo1 = 7 #Poner el número al final\r\n",
        "alh_ = 4 #Usar guión bajo\r\n",
        "\r\n",
        "#NO SE PUEDE\r\n",
        "#1al g-o = 5 // NO se pueden poner números al inicio de una variable, tampoco espacios ni guión corto\r\n",
        "\r\n",
        "#Tampoco son válidos los signos (¬!|#$%&/()[]{}^`~¿'?\\¡<>,.;:)\r\n",
        "#Tampoco son válidas palabras reservadas como class,def,True,dict,list,set,int,etc... \"Cualquiera que se ponga de color al terminar de escribir XD\" "
      ],
      "execution_count": 4,
      "outputs": []
    },
    {
      "cell_type": "code",
      "metadata": {
        "colab": {
          "base_uri": "https://localhost:8080/"
        },
        "id": "mOeizPXeEkql",
        "outputId": "abbcc799-3812-49c1-8a53-c856ff689ceb"
      },
      "source": [
        "# VARIABLES: TUPLAS, LISTAS, SETS Y DICCIONARIOS\r\n",
        "\r\n",
        "#Estas variables se pueden llenar con texto y números\r\n",
        "\r\n",
        "tupla = (\"hola\",2) #Es INMUTABLE, no puedes modificar sus valores una vez declarado\r\n",
        "\r\n",
        "lista = [7,5,6,8,1] #Se pueden agregar listas dentro de las listas  //  Importa donde se coloquen los valores, son dinámicos, ordenados y se pueden manejar cuantas veces queramos\r\n",
        "\r\n",
        "set_ = {1,1,6,7,8,8} #Palabras reservadas: list, set  //  Sólo imprime una vez los numeros repetidos y no tiene órden\r\n",
        "\r\n",
        "diccionario = {2:2, 1:5} #Se pueden guardar 2 valores, va en pares\r\n",
        "\r\n",
        "print(tupla)\r\n",
        "print(type(tupla))\r\n",
        "\r\n",
        "print(lista)\r\n",
        "print(type(lista))\r\n",
        "\r\n",
        "print(set_)\r\n",
        "print(type(set_))\r\n",
        "\r\n",
        "print(diccionario)\r\n",
        "print(type(diccionario))"
      ],
      "execution_count": 7,
      "outputs": [
        {
          "output_type": "stream",
          "text": [
            "('hola', 2)\n",
            "<class 'tuple'>\n",
            "[7, 5, 6, 8, 1]\n",
            "<class 'list'>\n",
            "{8, 1, 6, 7}\n",
            "<class 'set'>\n",
            "{2: 2, 1: 5}\n",
            "<class 'dict'>\n"
          ],
          "name": "stdout"
        }
      ]
    },
    {
      "cell_type": "code",
      "metadata": {
        "colab": {
          "base_uri": "https://localhost:8080/"
        },
        "id": "bpj72wxDING6",
        "outputId": "5b6f3011-f3ad-45e4-be6b-317b250e88a1"
      },
      "source": [
        "#LISTAS\r\n",
        "\r\n",
        "L = list\r\n",
        "lista_vacía = []\r\n",
        "\r\n",
        "lista = [1,2,\"Hola\",\"Dos\",'25']\r\n",
        "\r\n",
        "lista_de_listas = [[1,1],[2,2],[3,3]]      #Propiedad de anidar\r\n",
        "\r\n",
        "print(lista_vacía)\r\n",
        "print(lista)\r\n",
        "print(lista_de_listas)\r\n",
        "\r\n",
        "\r\n",
        "print(L)                                #Tipo de variable por sí solo\r\n",
        "print(type(lista_vacía))\r\n",
        "print(type(lista))\r\n",
        "print(type(lista_de_listas))"
      ],
      "execution_count": 8,
      "outputs": [
        {
          "output_type": "stream",
          "text": [
            "[]\n",
            "[1, 2, 'Hola', 'Dos', '25']\n",
            "[[1, 1], [2, 2], [3, 3]]\n",
            "<class 'list'>\n",
            "<class 'list'>\n",
            "<class 'list'>\n",
            "<class 'list'>\n"
          ],
          "name": "stdout"
        }
      ]
    },
    {
      "cell_type": "code",
      "metadata": {
        "colab": {
          "base_uri": "https://localhost:8080/"
        },
        "id": "38fz_Zf_IUcR",
        "outputId": "c93088a9-263e-4ec3-82fd-11a63ba8069f"
      },
      "source": [
        "#SET\r\n",
        "\r\n",
        "s = set([1,2,4,6,3,\"1\",1])         #No puede almacenar booleanos\r\n",
        "\r\n",
        "S = set \r\n",
        "\r\n",
        "SET_VACIO = {}                      # NO PUEDEN HABER SETS VACIOS, SERÁ INTERPRETADO COMO DICCIONARIO\r\n",
        "\r\n",
        "SET = {\"Hola\",\"Hola\",\"Hola\",12,12,12,12,21}\r\n",
        "\r\n",
        "print(s)\r\n",
        "print(SET_VACIO)                    # DICCIONARIO\r\n",
        "print(SET)\r\n",
        "\r\n",
        "print(type(s))\r\n",
        "print(S)                             # Tipo de dato por sí solo\r\n",
        "print(type(SET_VACIO))\r\n",
        "print(type(SET))"
      ],
      "execution_count": 9,
      "outputs": [
        {
          "output_type": "stream",
          "text": [
            "{1, 2, 3, 4, 6, '1'}\n",
            "{}\n",
            "{12, 21, 'Hola'}\n",
            "<class 'set'>\n",
            "<class 'set'>\n",
            "<class 'dict'>\n",
            "<class 'set'>\n"
          ],
          "name": "stdout"
        }
      ]
    },
    {
      "cell_type": "code",
      "metadata": {
        "colab": {
          "base_uri": "https://localhost:8080/"
        },
        "id": "wOHHJbnbIhkg",
        "outputId": "22d58401-a7b1-45a9-9931-7246e26a0ab1"
      },
      "source": [
        "#TUPLE\r\n",
        "\r\n",
        "Tupla = tuple\r\n",
        "tUpla = ()\r\n",
        "tuPla = (1,True,8,\"90\",9.0)\r\n",
        "tupLa = 0,1,(0,False),(1,True)     # Tupla anidada y sin paréntesis para definirse\r\n",
        "\r\n",
        "print(tUpla)\r\n",
        "print(tuPla)\r\n",
        "print(tupLa)\r\n",
        "\r\n",
        "\r\n",
        "print(Tupla)                # Tipo de dato por sí solo\r\n",
        "print(type(tUpla))\r\n",
        "print(type(tuPla))\r\n",
        "print(type(tupLa))"
      ],
      "execution_count": 10,
      "outputs": [
        {
          "output_type": "stream",
          "text": [
            "()\n",
            "(1, True, 8, '90', 9.0)\n",
            "(0, 1, (0, False), (1, True))\n",
            "<class 'tuple'>\n",
            "<class 'tuple'>\n",
            "<class 'tuple'>\n",
            "<class 'tuple'>\n"
          ],
          "name": "stdout"
        }
      ]
    },
    {
      "cell_type": "code",
      "metadata": {
        "id": "GZgxzxGSI0nN"
      },
      "source": [
        "# Diccionario forma {Key : Value} A cada llave (key) hay un valor (value).\r\n",
        "\r\n",
        "Dict = dict\r\n",
        "\r\n",
        "Diccionario_Vacio = {}\r\n",
        "\r\n",
        "Diccionario = dict([(1,2),(\"uno\",'dos')])   # ¡OJO! Aquí no se usan los dos puntos \":\" sino comas \",\"\r\n",
        "\r\n",
        "DICCIONARIO = {\"Nombre\" : \"Miguel\",\r\n",
        "               \"Edad\"   :  21,   \r\n",
        "               \"Soltero\": True }\r\n",
        "\r\n",
        "print(Diccionario_Vacio)\r\n",
        "print(Diccionario)\r\n",
        "print(DICCIONARIO)\r\n",
        "\r\n",
        "\r\n",
        "print(Dict)\r\n",
        "print(type(Diccionario_Vacio))\r\n",
        "print(type(Diccionario))\r\n",
        "print(type(DICCIONARIO))"
      ],
      "execution_count": null,
      "outputs": []
    }
  ]
}