{
  "nbformat": 4,
  "nbformat_minor": 0,
  "metadata": {
    "colab": {
      "name": "Untitled0.ipynb",
      "provenance": [],
      "authorship_tag": "ABX9TyOq1uo0dlxQKqaVKH67JPfC",
      "include_colab_link": true
    },
    "kernelspec": {
      "name": "python3",
      "display_name": "Python 3"
    }
  },
  "cells": [
    {
      "cell_type": "markdown",
      "metadata": {
        "id": "view-in-github",
        "colab_type": "text"
      },
      "source": [
        "<a href=\"https://colab.research.google.com/github/karina-munoz/Rep_phyton/blob/main/Untitled0.ipynb\" target=\"_parent\"><img src=\"https://colab.research.google.com/assets/colab-badge.svg\" alt=\"Open In Colab\"/></a>"
      ]
    },
    {
      "cell_type": "code",
      "metadata": {
        "colab": {
          "base_uri": "https://localhost:8080/"
        },
        "id": "_gsS2nDX-9LE",
        "outputId": "772d6cd2-d9f0-4269-a459-70ea276f45eb"
      },
      "source": [
        "#Creando una variable string\r\n",
        "Mensaje = \"Hola\" #Se le asignó una cadena de caracteres string (Hola) a la variable Mensaje\r\n",
        "\r\n",
        "#Imprimiendo la variable string\r\n",
        "print(Mensaje)\r\n",
        "\r\n",
        "print(\"\\t¿Como estas?\\n\\tEstoy bien\",Mensaje)\r\n",
        "#\\n es un salto de linea y \\t es un tabulador"
      ],
      "execution_count": 2,
      "outputs": [
        {
          "output_type": "stream",
          "text": [
            "Hola\n",
            "\t¿Como estas?\n",
            "\tEstoy bien Hola\n"
          ],
          "name": "stdout"
        }
      ]
    },
    {
      "cell_type": "code",
      "metadata": {
        "colab": {
          "base_uri": "https://localhost:8080/"
        },
        "id": "cggxDqVRBoO8",
        "outputId": "83777355-a378-4723-b8fc-e01f1c5a2134"
      },
      "source": [
        "#Concatenación de strings\r\n",
        "M_1 = \"Estoy\"\r\n",
        "M_2 = \" dando\"\r\n",
        "M_3 = \" una clase\"\r\n",
        "M_total = M_1 + M_2 + M_3\r\n",
        "\r\n",
        "print(M_total)\r\n",
        "print(M_1 + M_2 + M_3 + \" de Python\")\r\n",
        "\r\n",
        "Num_1 = \"1\"\r\n",
        "Num_2 = \"2\"\r\n",
        "Num_3 = Num_1 + Num_2\r\n",
        "print(Num_3) #Da como resultado \"12\" pues se interpretan como caracteres no como numeros"
      ],
      "execution_count": 4,
      "outputs": [
        {
          "output_type": "stream",
          "text": [
            "Estoy dando una clase\n",
            "Estoy dando una clase de Python\n",
            "12\n"
          ],
          "name": "stdout"
        }
      ]
    },
    {
      "cell_type": "code",
      "metadata": {
        "colab": {
          "base_uri": "https://localhost:8080/"
        },
        "id": "ZfPFJA1qD08k",
        "outputId": "ef880933-6beb-4deb-f32c-84d6262ef411"
      },
      "source": [
        "print(\"¿Cual es tu nombre?\")\r\n",
        "\r\n",
        "#Solicitando al usuario un string=cadena de caracteres\r\n",
        "nombre = input()\r\n",
        "\r\n",
        "print(nombre)\r\n",
        "\r\n",
        "#Solicitando al usuario un string mediante un mensaje (mas eficiente)\r\n",
        "Apellido = input(\"¿Cual es tu apellido? \")\r\n",
        "\r\n",
        "print(\"Mi nombre es\", nombre, Apellido)"
      ],
      "execution_count": 8,
      "outputs": [
        {
          "output_type": "stream",
          "text": [
            "¿Cual es tu nombre?\n",
            "karina\n",
            "karina\n",
            "¿Cual es tu apellido? muñoz\n",
            "Mi nombre es karina muñoz\n"
          ],
          "name": "stdout"
        }
      ]
    },
    {
      "cell_type": "code",
      "metadata": {
        "colab": {
          "base_uri": "https://localhost:8080/"
        },
        "id": "8wSNGFbSFyPT",
        "outputId": "b7111efe-ee4d-4d19-efdd-7d2e8a2aa6b0"
      },
      "source": [
        "#Tarea 1: concatenar strings\r\n",
        "nombre1 = input(\"Ingrese su primer nombre \")\r\n",
        "nombre2 = input(\"Ingrese su segundo nombre \")\r\n",
        "apellido1 = input(\"Ingrese su primer apellido \")\r\n",
        "apellido2 = input(\"Ingrese su segundo apellido \")\r\n",
        "\r\n",
        "print(\"Mi nombre completo es\",nombre1,nombre2,apellido1,apellido2)"
      ],
      "execution_count": 9,
      "outputs": [
        {
          "output_type": "stream",
          "text": [
            "Ingrese su primer nombre karina\n",
            "Ingrese su segundo nombre midory\n",
            "Ingrese su primer apellido muñoz\n",
            "Ingrese su segundo apellido camacho\n",
            "Mi nombre completo es karina midory muñoz camacho\n"
          ],
          "name": "stdout"
        }
      ]
    }
  ]
}