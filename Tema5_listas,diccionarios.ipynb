{
  "nbformat": 4,
  "nbformat_minor": 0,
  "metadata": {
    "colab": {
      "name": "Tema5-listas,diccionarios.ipynb",
      "provenance": [],
      "authorship_tag": "ABX9TyO/lBajge5pQMW3LDHH1/dO",
      "include_colab_link": true
    },
    "kernelspec": {
      "name": "python3",
      "display_name": "Python 3"
    }
  },
  "cells": [
    {
      "cell_type": "markdown",
      "metadata": {
        "id": "view-in-github",
        "colab_type": "text"
      },
      "source": [
        "<a href=\"https://colab.research.google.com/github/karina-munoz/Rep_phyton/blob/main/Tema5_listas%2Cdiccionarios.ipynb\" target=\"_parent\"><img src=\"https://colab.research.google.com/assets/colab-badge.svg\" alt=\"Open In Colab\"/></a>"
      ]
    },
    {
      "cell_type": "markdown",
      "metadata": {
        "id": "br--TOerDbpN"
      },
      "source": [
        "#Índices en listas"
      ]
    },
    {
      "cell_type": "code",
      "metadata": {
        "colab": {
          "base_uri": "https://localhost:8080/"
        },
        "id": "tvzZV28KDyVc",
        "outputId": "b46f4b40-340e-4fab-c13d-5d82b211c44d"
      },
      "source": [
        "A = [89,2,3,4,5]\r\n",
        "A"
      ],
      "execution_count": 8,
      "outputs": [
        {
          "output_type": "execute_result",
          "data": {
            "text/plain": [
              "[89, 2, 3, 4, 5]"
            ]
          },
          "metadata": {
            "tags": []
          },
          "execution_count": 8
        }
      ]
    },
    {
      "cell_type": "code",
      "metadata": {
        "colab": {
          "base_uri": "https://localhost:8080/"
        },
        "id": "XcpfIKluEwkR",
        "outputId": "1f901f7e-dd45-456a-d4b0-5e98590eb1a2"
      },
      "source": [
        "A[0]=1\r\n",
        "A"
      ],
      "execution_count": 7,
      "outputs": [
        {
          "output_type": "execute_result",
          "data": {
            "text/plain": [
              "[1, 2, 3, 4, 5]"
            ]
          },
          "metadata": {
            "tags": []
          },
          "execution_count": 7
        }
      ]
    },
    {
      "cell_type": "code",
      "metadata": {
        "colab": {
          "base_uri": "https://localhost:8080/"
        },
        "id": "i7QoyC6UE5tD",
        "outputId": "b694e511-d044-4ca0-c04f-629180dfd1d6"
      },
      "source": [
        "A[4]=109\r\n",
        "A"
      ],
      "execution_count": 9,
      "outputs": [
        {
          "output_type": "execute_result",
          "data": {
            "text/plain": [
              "[89, 2, 3, 4, 109]"
            ]
          },
          "metadata": {
            "tags": []
          },
          "execution_count": 9
        }
      ]
    },
    {
      "cell_type": "markdown",
      "metadata": {
        "id": "lfCOBJGzFCXg"
      },
      "source": [
        "#Añadir elementos a listas"
      ]
    },
    {
      "cell_type": "code",
      "metadata": {
        "colab": {
          "base_uri": "https://localhost:8080/"
        },
        "id": "ES4x_2ZEFGVO",
        "outputId": "e093ca6f-b911-4cf1-d0b0-b4e85d4cbaa0"
      },
      "source": [
        "B=[1,2,3]\r\n",
        "B"
      ],
      "execution_count": 10,
      "outputs": [
        {
          "output_type": "execute_result",
          "data": {
            "text/plain": [
              "[1, 2, 3]"
            ]
          },
          "metadata": {
            "tags": []
          },
          "execution_count": 10
        }
      ]
    },
    {
      "cell_type": "code",
      "metadata": {
        "colab": {
          "base_uri": "https://localhost:8080/"
        },
        "id": "7IcWPUm7FhKD",
        "outputId": "ff41c2e7-51ab-4e99-db9e-d97780bc2d7d"
      },
      "source": [
        "B.append(4)\r\n",
        "B"
      ],
      "execution_count": 11,
      "outputs": [
        {
          "output_type": "execute_result",
          "data": {
            "text/plain": [
              "[1, 2, 3, 4]"
            ]
          },
          "metadata": {
            "tags": []
          },
          "execution_count": 11
        }
      ]
    },
    {
      "cell_type": "code",
      "metadata": {
        "colab": {
          "base_uri": "https://localhost:8080/"
        },
        "id": "AdeFcy8cG3Qb",
        "outputId": "0b8442f1-4cd3-408e-bdd6-64ad1b909d38"
      },
      "source": [
        "C=[]\r\n",
        "C"
      ],
      "execution_count": 12,
      "outputs": [
        {
          "output_type": "execute_result",
          "data": {
            "text/plain": [
              "[]"
            ]
          },
          "metadata": {
            "tags": []
          },
          "execution_count": 12
        }
      ]
    },
    {
      "cell_type": "code",
      "metadata": {
        "colab": {
          "base_uri": "https://localhost:8080/"
        },
        "id": "rRenXgmPG63c",
        "outputId": "d5ae03a4-7e4c-4657-95e0-57e38001dd1e"
      },
      "source": [
        "C.append([1,2,3])\r\n",
        "C"
      ],
      "execution_count": 13,
      "outputs": [
        {
          "output_type": "execute_result",
          "data": {
            "text/plain": [
              "[[1, 2, 3]]"
            ]
          },
          "metadata": {
            "tags": []
          },
          "execution_count": 13
        }
      ]
    },
    {
      "cell_type": "code",
      "metadata": {
        "colab": {
          "base_uri": "https://localhost:8080/"
        },
        "id": "LQVlVv2kHBPo",
        "outputId": "f52008d6-b920-4c1a-f9d1-7264e2120e1f"
      },
      "source": [
        "C.append([4,5,6])\r\n",
        "C.append([7,8,9])\r\n",
        "C"
      ],
      "execution_count": 14,
      "outputs": [
        {
          "output_type": "execute_result",
          "data": {
            "text/plain": [
              "[[1, 2, 3], [4, 5, 6], [7, 8, 9]]"
            ]
          },
          "metadata": {
            "tags": []
          },
          "execution_count": 14
        }
      ]
    },
    {
      "cell_type": "code",
      "metadata": {
        "id": "TCsuB2CsHLR6"
      },
      "source": [
        "#import numpy as np\r\n",
        "#C = np.array(C)\r\n",
        "#C"
      ],
      "execution_count": 17,
      "outputs": []
    },
    {
      "cell_type": "markdown",
      "metadata": {
        "id": "nTGND67eHlvF"
      },
      "source": [
        "#Operaciones a listas"
      ]
    },
    {
      "cell_type": "code",
      "metadata": {
        "colab": {
          "base_uri": "https://localhost:8080/"
        },
        "id": "d25A6jr6HoDd",
        "outputId": "9694694e-02fb-4eb0-b1e0-fde3451f6513"
      },
      "source": [
        "print(C[2][2])"
      ],
      "execution_count": 19,
      "outputs": [
        {
          "output_type": "stream",
          "text": [
            "9\n"
          ],
          "name": "stdout"
        }
      ]
    },
    {
      "cell_type": "code",
      "metadata": {
        "colab": {
          "base_uri": "https://localhost:8080/"
        },
        "id": "NFiTxRRaIg2l",
        "outputId": "6a0cd2cc-85b1-481b-fb15-b571758f1c06"
      },
      "source": [
        "D=[1,2,3,4,5,6,7,8,9,10]\r\n",
        "D"
      ],
      "execution_count": 20,
      "outputs": [
        {
          "output_type": "execute_result",
          "data": {
            "text/plain": [
              "[1, 2, 3, 4, 5, 6, 7, 8, 9, 10]"
            ]
          },
          "metadata": {
            "tags": []
          },
          "execution_count": 20
        }
      ]
    },
    {
      "cell_type": "code",
      "metadata": {
        "colab": {
          "base_uri": "https://localhost:8080/"
        },
        "id": "_4hBpEh7IyH7",
        "outputId": "f38dca4f-7b4f-431b-e704-d573d1c74f0d"
      },
      "source": [
        "Suma = sum(D)\r\n",
        "Suma"
      ],
      "execution_count": 22,
      "outputs": [
        {
          "output_type": "execute_result",
          "data": {
            "text/plain": [
              "55"
            ]
          },
          "metadata": {
            "tags": []
          },
          "execution_count": 22
        }
      ]
    },
    {
      "cell_type": "code",
      "metadata": {
        "colab": {
          "base_uri": "https://localhost:8080/"
        },
        "id": "fqkGVxjDJVKr",
        "outputId": "da0fde9b-c274-4c45-cfa9-820c0725f7fb"
      },
      "source": [
        "Longitud = len(D)\r\n",
        "Longitud"
      ],
      "execution_count": 23,
      "outputs": [
        {
          "output_type": "execute_result",
          "data": {
            "text/plain": [
              "10"
            ]
          },
          "metadata": {
            "tags": []
          },
          "execution_count": 23
        }
      ]
    },
    {
      "cell_type": "markdown",
      "metadata": {
        "id": "TtI08MRgKoEK"
      },
      "source": [
        "#Promedio de un arreglo"
      ]
    },
    {
      "cell_type": "code",
      "metadata": {
        "colab": {
          "base_uri": "https://localhost:8080/"
        },
        "id": "mTepUCYqJZjU",
        "outputId": "26afaf52-8ad6-41ae-823c-214c8db21179"
      },
      "source": [
        "#Primera forma\r\n",
        "Promedio = sum(D)/len(D)\r\n",
        "Promedio"
      ],
      "execution_count": 24,
      "outputs": [
        {
          "output_type": "execute_result",
          "data": {
            "text/plain": [
              "5.5"
            ]
          },
          "metadata": {
            "tags": []
          },
          "execution_count": 24
        }
      ]
    },
    {
      "cell_type": "code",
      "metadata": {
        "colab": {
          "base_uri": "https://localhost:8080/"
        },
        "id": "H-OhlZ-iJsF2",
        "outputId": "4d99f956-cf57-4351-c172-d786ae92690c"
      },
      "source": [
        "#Segunda forma\r\n",
        "import statistics as st\r\n",
        "Promedio_ = st.mean(D)\r\n",
        "Promedio_"
      ],
      "execution_count": 27,
      "outputs": [
        {
          "output_type": "execute_result",
          "data": {
            "text/plain": [
              "5.5"
            ]
          },
          "metadata": {
            "tags": []
          },
          "execution_count": 27
        }
      ]
    },
    {
      "cell_type": "code",
      "metadata": {
        "colab": {
          "base_uri": "https://localhost:8080/"
        },
        "id": "_WNAr5PhKXbg",
        "outputId": "07ed9e90-fd12-47fe-9b42-9153e7752ce6"
      },
      "source": [
        "#Tambien se puede:\r\n",
        "import statistics\r\n",
        "Promedio_2 = statistics.mean(D)\r\n",
        "Promedio_2"
      ],
      "execution_count": 28,
      "outputs": [
        {
          "output_type": "execute_result",
          "data": {
            "text/plain": [
              "5.5"
            ]
          },
          "metadata": {
            "tags": []
          },
          "execution_count": 28
        }
      ]
    },
    {
      "cell_type": "markdown",
      "metadata": {
        "id": "aISnrzZiKtZR"
      },
      "source": [
        "#Listas con strings"
      ]
    },
    {
      "cell_type": "code",
      "metadata": {
        "colab": {
          "base_uri": "https://localhost:8080/"
        },
        "id": "cAbszOOPK0Ap",
        "outputId": "6752f7fd-ba56-4587-b691-2c0598c05e40"
      },
      "source": [
        "Strings = ['abc', 'def', 'ghi', 'jkl']\r\n",
        "print(Strings[3][2])"
      ],
      "execution_count": 29,
      "outputs": [
        {
          "output_type": "stream",
          "text": [
            "l\n"
          ],
          "name": "stdout"
        }
      ]
    },
    {
      "cell_type": "code",
      "metadata": {
        "colab": {
          "base_uri": "https://localhost:8080/"
        },
        "id": "K_AoceoML9nH",
        "outputId": "90fdc4d6-1197-472f-a8b7-2858e9b135a3"
      },
      "source": [
        "Longitud = len(Strings)\r\n",
        "Longitud"
      ],
      "execution_count": 30,
      "outputs": [
        {
          "output_type": "execute_result",
          "data": {
            "text/plain": [
              "4"
            ]
          },
          "metadata": {
            "tags": []
          },
          "execution_count": 30
        }
      ]
    },
    {
      "cell_type": "code",
      "metadata": {
        "colab": {
          "base_uri": "https://localhost:8080/"
        },
        "id": "lFfUaCuoL-1p",
        "outputId": "dcef168f-37f3-4f06-a2ca-938be6a35716"
      },
      "source": [
        "print(Strings[2][0:2]) #NO LLEGA A LA POSICIÓN 2"
      ],
      "execution_count": 31,
      "outputs": [
        {
          "output_type": "stream",
          "text": [
            "gh\n"
          ],
          "name": "stdout"
        }
      ]
    },
    {
      "cell_type": "markdown",
      "metadata": {
        "id": "rX_AG3D8MVP_"
      },
      "source": [
        "#Diccionarios (Python sí los incluye)"
      ]
    },
    {
      "cell_type": "code",
      "metadata": {
        "id": "ZbbO25A_MbWu"
      },
      "source": [
        "Datos_alumno = {\r\n",
        "    'Nombre' : 'Octavio', #Un diccionario requiere una llave y una clave asociada\r\n",
        "    'Apellido': 'Paz',\r\n",
        "    'Matricula' : '123456',\r\n",
        "    'Horario' : 'Matutino',\r\n",
        "    'Beca' : 'Si'\r\n",
        "}"
      ],
      "execution_count": 32,
      "outputs": []
    },
    {
      "cell_type": "code",
      "metadata": {
        "colab": {
          "base_uri": "https://localhost:8080/"
        },
        "id": "LNF9AmCyNngf",
        "outputId": "36137367-f9b1-4fdb-a53a-3e611743a2c9"
      },
      "source": [
        "print(Datos_alumno['Matricula'])\r\n",
        "print(Datos_alumno['Apellido'])\r\n",
        "print(Datos_alumno['Beca'])"
      ],
      "execution_count": 33,
      "outputs": [
        {
          "output_type": "stream",
          "text": [
            "123456\n",
            "Paz\n",
            "Si\n"
          ],
          "name": "stdout"
        }
      ]
    },
    {
      "cell_type": "markdown",
      "metadata": {
        "id": "d9FezFOzP9qY"
      },
      "source": [
        "#Agregando componentes a diccionarios\r\n",
        "\r\n",
        "---\r\n",
        "\r\n"
      ]
    },
    {
      "cell_type": "code",
      "metadata": {
        "id": "l52OnBwDNoyo"
      },
      "source": [
        "Datos_alumno.update({'Materias':['Fisica', 'Quimica', 'Programacion']})"
      ],
      "execution_count": 34,
      "outputs": []
    },
    {
      "cell_type": "code",
      "metadata": {
        "colab": {
          "base_uri": "https://localhost:8080/"
        },
        "id": "l7cFq5tzNr7v",
        "outputId": "33b67654-89db-4afc-968e-ed717b3d00f3"
      },
      "source": [
        "Datos_alumno"
      ],
      "execution_count": 35,
      "outputs": [
        {
          "output_type": "execute_result",
          "data": {
            "text/plain": [
              "{'Apellido': 'Paz',\n",
              " 'Beca': 'Si',\n",
              " 'Horario': 'Matutino',\n",
              " 'Materias': ['Fisica', 'Quimica', 'Programacion'],\n",
              " 'Matricula': '123456',\n",
              " 'Nombre': 'Octavio'}"
            ]
          },
          "metadata": {
            "tags": []
          },
          "execution_count": 35
        }
      ]
    },
    {
      "cell_type": "code",
      "metadata": {
        "colab": {
          "base_uri": "https://localhost:8080/"
        },
        "id": "Xg9KMB22OO8_",
        "outputId": "a0bce596-a78a-4038-e944-ac5e6a2e0b1f"
      },
      "source": [
        "print(Datos_alumno['Materias'])\r\n",
        "print(Datos_alumno['Materias'][0:2])"
      ],
      "execution_count": 39,
      "outputs": [
        {
          "output_type": "stream",
          "text": [
            "['Fisica', 'Quimica', 'Programacion']\n",
            "['Fisica', 'Quimica']\n"
          ],
          "name": "stdout"
        }
      ]
    },
    {
      "cell_type": "markdown",
      "metadata": {
        "id": "9Xf6192ZORCm"
      },
      "source": [
        "#Diccionarios anidados"
      ]
    },
    {
      "cell_type": "code",
      "metadata": {
        "id": "xkr3H4INOTYk"
      },
      "source": [
        "Pacientes = [\r\n",
        "    {\r\n",
        "     'Nombre':'Juan',\r\n",
        "     'Seguro':'Si',\r\n",
        "     'ID_seguro':'987654321',\r\n",
        "     'Covid':'Si',\r\n",
        "     'G_sanguineo':'AB+'\r\n",
        "    },\r\n",
        "\r\n",
        "    {\r\n",
        "     'Nombre':'Maria',\r\n",
        "     'Seguro':'Si',\r\n",
        "     'ID_seguro':'123456789',\r\n",
        "     'Covid':'No',\r\n",
        "     'G_sanguineo':'A+'\r\n",
        "    },\r\n",
        "\r\n",
        "    {\r\n",
        "     'Nombre':'Ernesto',\r\n",
        "     'Seguro':'No',\r\n",
        "     'ID_seguro':'N/A',\r\n",
        "     'Covid':'No',\r\n",
        "     'G_sanguineo':'B+',\r\n",
        "    }\r\n",
        "]"
      ],
      "execution_count": 37,
      "outputs": []
    },
    {
      "cell_type": "code",
      "metadata": {
        "colab": {
          "base_uri": "https://localhost:8080/"
        },
        "id": "W2nP8oOxOZGD",
        "outputId": "b4b5590b-5041-4d10-cefe-bed848766f05"
      },
      "source": [
        "print(Pacientes[1]['Nombre'])\r\n",
        "print(Pacientes[1]['Seguro'])\r\n",
        "print(Pacientes[1]['ID_seguro'])"
      ],
      "execution_count": 40,
      "outputs": [
        {
          "output_type": "stream",
          "text": [
            "Maria\n",
            "Si\n",
            "123456789\n"
          ],
          "name": "stdout"
        }
      ]
    },
    {
      "cell_type": "code",
      "metadata": {
        "colab": {
          "base_uri": "https://localhost:8080/"
        },
        "id": "LKzhggJXPjaT",
        "outputId": "902bb21f-9f07-4bc2-82cb-9884b72584d4"
      },
      "source": [
        "print(Pacientes[2]['Seguro'])\r\n",
        "print(Pacientes[2]['Covid'])\r\n",
        "print(Pacientes[2]['G_sanguineo'])"
      ],
      "execution_count": 41,
      "outputs": [
        {
          "output_type": "stream",
          "text": [
            "No\n",
            "No\n",
            "B+\n"
          ],
          "name": "stdout"
        }
      ]
    },
    {
      "cell_type": "code",
      "metadata": {
        "colab": {
          "base_uri": "https://localhost:8080/"
        },
        "id": "3I4L8getPlx_",
        "outputId": "5b38abec-2d35-4901-852a-5a62075a61cb"
      },
      "source": [
        "print(Pacientes[0]['G_sanguineo'])"
      ],
      "execution_count": 42,
      "outputs": [
        {
          "output_type": "stream",
          "text": [
            "AB+\n"
          ],
          "name": "stdout"
        }
      ]
    },
    {
      "cell_type": "markdown",
      "metadata": {
        "id": "roWLSYFrPpku"
      },
      "source": [
        "#Tarea"
      ]
    },
    {
      "cell_type": "code",
      "metadata": {
        "id": "uuUhLg_HPrhc"
      },
      "source": [
        "Automoviles = [\r\n",
        "      {\r\n",
        "       'Placas':[],\r\n",
        "       'Modelo':[],\r\n",
        "       'Año':[]\r\n",
        "      },\r\n",
        "\r\n",
        "      {\r\n",
        "       'Placas':[],\r\n",
        "       'Modelo':[],\r\n",
        "       'Año':[]\r\n",
        "      },\r\n",
        "\r\n",
        "]"
      ],
      "execution_count": 52,
      "outputs": []
    },
    {
      "cell_type": "code",
      "metadata": {
        "colab": {
          "base_uri": "https://localhost:8080/"
        },
        "id": "Fhzg9xRhRosA",
        "outputId": "d7fc4658-3616-43f6-883a-8a367f09c6d7"
      },
      "source": [
        "a1=input(\"Ingrese las placas del auto 1: \")\r\n",
        "a2=input(\"Ingrese las placas del auto 2: \")"
      ],
      "execution_count": 54,
      "outputs": [
        {
          "output_type": "stream",
          "text": [
            "Ingrese las placas del auto 1: 15663\n",
            "Ingrese las placas del auto 2: 14699\n"
          ],
          "name": "stdout"
        }
      ]
    },
    {
      "cell_type": "code",
      "metadata": {
        "colab": {
          "base_uri": "https://localhost:8080/"
        },
        "id": "pBu9qy_fSv6A",
        "outputId": "95a305a1-286e-40c9-f4b4-aba3ad0d8697"
      },
      "source": [
        "Automoviles[0].update({'Placas': a1})\r\n",
        "Automoviles[1].update({'Placas': a2})\r\n",
        "Automoviles"
      ],
      "execution_count": 56,
      "outputs": [
        {
          "output_type": "execute_result",
          "data": {
            "text/plain": [
              "[{'Año': [], 'Modelo': [], 'Placas': '15663'},\n",
              " {'Año': [], 'Modelo': [], 'Placas': '14699'}]"
            ]
          },
          "metadata": {
            "tags": []
          },
          "execution_count": 56
        }
      ]
    },
    {
      "cell_type": "code",
      "metadata": {
        "colab": {
          "base_uri": "https://localhost:8080/"
        },
        "id": "JGe_mLB9VndN",
        "outputId": "7a61432e-122a-415e-94ae-d76f643a6516"
      },
      "source": [
        "b1=input(\"Ingrese el modelo del auto 1: \")\r\n",
        "b2=input(\"Ingrese el modelo del auto 2: \")"
      ],
      "execution_count": 57,
      "outputs": [
        {
          "output_type": "stream",
          "text": [
            "Ingrese el modelo del auto 1: 189648\n",
            "Ingrese el modelo del auto 2: 1896531\n"
          ],
          "name": "stdout"
        }
      ]
    },
    {
      "cell_type": "code",
      "metadata": {
        "colab": {
          "base_uri": "https://localhost:8080/"
        },
        "id": "eEw9xz1cVye0",
        "outputId": "6373595e-e014-40ee-8dd8-fc3853e47428"
      },
      "source": [
        "Automoviles[0].update({'Modelo': b1})\r\n",
        "Automoviles[1].update({'Modelo': b2})\r\n",
        "Automoviles"
      ],
      "execution_count": 61,
      "outputs": [
        {
          "output_type": "execute_result",
          "data": {
            "text/plain": [
              "[{'Año': [], 'Modelo': '189648', 'Placas': '15663'},\n",
              " {'Año': [], 'Modelo': '1896531', 'Placas': '14699'}]"
            ]
          },
          "metadata": {
            "tags": []
          },
          "execution_count": 61
        }
      ]
    },
    {
      "cell_type": "code",
      "metadata": {
        "colab": {
          "base_uri": "https://localhost:8080/"
        },
        "id": "9LZkwUczWCjt",
        "outputId": "5486e416-31d8-4b7b-8770-cc5cadb85acb"
      },
      "source": [
        "c1=input(\"Ingrese el año del auto 1: \")\r\n",
        "c2=input(\"Ingrese el año del auto 2: \")"
      ],
      "execution_count": 59,
      "outputs": [
        {
          "output_type": "stream",
          "text": [
            "Ingrese el año del auto 1: 2021\n",
            "Ingrese el año del auto 2: 7050\n"
          ],
          "name": "stdout"
        }
      ]
    },
    {
      "cell_type": "code",
      "metadata": {
        "colab": {
          "base_uri": "https://localhost:8080/"
        },
        "id": "0Tf7esBoW5Rp",
        "outputId": "36844ec2-5cd8-410c-ccfb-01365f4a23ca"
      },
      "source": [
        "Automoviles[0].update({'Año': c1})\r\n",
        "Automoviles[1].update({'Año': c2})\r\n",
        "Automoviles"
      ],
      "execution_count": 71,
      "outputs": [
        {
          "output_type": "execute_result",
          "data": {
            "text/plain": [
              "array([{'Placas': '15663', 'Modelo': '189648', 'Año': '2021'},\n",
              "       {'Placas': '14699', 'Modelo': '1896531', 'Año': '7050'}],\n",
              "      dtype=object)"
            ]
          },
          "metadata": {
            "tags": []
          },
          "execution_count": 71
        }
      ]
    }
  ]
}