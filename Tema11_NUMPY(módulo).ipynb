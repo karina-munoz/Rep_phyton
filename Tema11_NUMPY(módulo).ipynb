{
  "nbformat": 4,
  "nbformat_minor": 0,
  "metadata": {
    "colab": {
      "name": "Tema11-NUMPY(módulo).ipynb",
      "provenance": [],
      "authorship_tag": "ABX9TyNLXoeymfbUh5oNfu0n8y4p",
      "include_colab_link": true
    },
    "kernelspec": {
      "name": "python3",
      "display_name": "Python 3"
    }
  },
  "cells": [
    {
      "cell_type": "markdown",
      "metadata": {
        "id": "view-in-github",
        "colab_type": "text"
      },
      "source": [
        "<a href=\"https://colab.research.google.com/github/karina-munoz/Rep_phyton/blob/main/Tema11_NUMPY(m%C3%B3dulo).ipynb\" target=\"_parent\"><img src=\"https://colab.research.google.com/assets/colab-badge.svg\" alt=\"Open In Colab\"/></a>"
      ]
    },
    {
      "cell_type": "markdown",
      "metadata": {
        "id": "bixsGC36tD0x"
      },
      "source": [
        "#Módulo NUMPY"
      ]
    },
    {
      "cell_type": "code",
      "metadata": {
        "colab": {
          "base_uri": "https://localhost:8080/"
        },
        "id": "ymSgBasetI0i",
        "outputId": "b4d24800-3a7b-4ffb-daa8-bd91a66561f8"
      },
      "source": [
        "#Se importa libreria numpy con el \"apodo\" np\r\n",
        "import numpy as np\r\n",
        "a = [1,2,3]\r\n",
        "print(type(a))\r\n",
        "#print(3 * a)\r\n",
        "#print(a+a)\r\n",
        "a = np.array(a) # Esta funcion permite manejar a \"a\" como un vector\r\n",
        "print(type(a))\r\n",
        "print(3 * a)\r\n",
        "print(a+a)"
      ],
      "execution_count": 1,
      "outputs": [
        {
          "output_type": "stream",
          "text": [
            "<class 'list'>\n",
            "<class 'numpy.ndarray'>\n",
            "[3 6 9]\n",
            "[2 4 6]\n"
          ],
          "name": "stdout"
        }
      ]
    },
    {
      "cell_type": "code",
      "metadata": {
        "colab": {
          "base_uri": "https://localhost:8080/"
        },
        "id": "HPQezpFFv_il",
        "outputId": "52a6dad7-48f9-4788-fae1-2b501e35ad6a"
      },
      "source": [
        "Diez = np.linspace(1,10,100)\r\n",
        "#print(Diez)\r\n",
        "Ceros = np.zeros(3)\r\n",
        "print(Ceros)"
      ],
      "execution_count": 2,
      "outputs": [
        {
          "output_type": "stream",
          "text": [
            "[0. 0. 0.]\n"
          ],
          "name": "stdout"
        }
      ]
    },
    {
      "cell_type": "code",
      "metadata": {
        "colab": {
          "base_uri": "https://localhost:8080/"
        },
        "id": "cT3q2XiPwEg6",
        "outputId": "8bf3b9f0-6b91-4d9e-e3fb-3afdc70ea37d"
      },
      "source": [
        "b = np.array([-1,-60,12,3.5,2,3,3])\r\n",
        "Min = np.amin(b) # Obtengo el valor minimo del vector \"b\" \r\n",
        "print(Min)\r\n",
        "Max = np.amax(b) # Obtengo el valor minimo del vector \"b\"\r\n",
        "print(Max)\r\n",
        "Donde_3_5 = np.where(b == 3.5) # Nos indica en que posicion del vector \"b\"  se cumple que sea igual a 3.5 \r\n",
        "print(Donde_3_5)\r\n",
        "Donde_3 = np.where(b == 3)\r\n",
        "print(Donde_3)"
      ],
      "execution_count": 3,
      "outputs": [
        {
          "output_type": "stream",
          "text": [
            "-60.0\n",
            "12.0\n",
            "(array([3]),)\n",
            "(array([5, 6]),)\n"
          ],
          "name": "stdout"
        }
      ]
    },
    {
      "cell_type": "code",
      "metadata": {
        "colab": {
          "base_uri": "https://localhost:8080/"
        },
        "id": "x5BcamB8wTjt",
        "outputId": "6326001f-1b93-4eb8-8e60-11dabf0c961b"
      },
      "source": [
        "\r\n",
        "#1X^2 - 3x + 2 = 0\r\n",
        "Ecu_1 = np.array([1,-3,2]) \r\n",
        "Sol_1 = np.roots(Ecu_1)  # Esta funcion nos indica en que puntos una ecuacion toma el valor de 0, puede ser de grados mayores\r\n",
        "print(Sol_1)\r\n",
        "#4x^4 - 2x^2 + 3x - 2 = 0\r\n",
        "Ecu_2 = np.array([4,0,-2,3,-2])\r\n",
        "Sol_2 = np.roots(Ecu_2)\r\n",
        "print(Sol_2)"
      ],
      "execution_count": 4,
      "outputs": [
        {
          "output_type": "stream",
          "text": [
            "[2. 1.]\n",
            "[-1.20921113+0.j          0.26185021+0.73117971j  0.26185021-0.73117971j\n",
            "  0.6855107 +0.j        ]\n"
          ],
          "name": "stdout"
        }
      ]
    },
    {
      "cell_type": "code",
      "metadata": {
        "colab": {
          "base_uri": "https://localhost:8080/"
        },
        "id": "_yyDDUxExc9j",
        "outputId": "ea544e1a-6e36-41a9-bd4d-687c1f2224fb"
      },
      "source": [
        "#5x - 3y - z = 1\r\n",
        "#x + 4y -6z = -1\r\n",
        "#2x + 3y + 4x = 9\r\n",
        "X = np.array([[5,-3,-1],[1,4,-6],[2,3,4]])\r\n",
        "Val = np.array([1,-1,9])\r\n",
        "print(X)\r\n",
        "print(\"------------\")\r\n",
        "print(Val)\r\n",
        "print(\"------------\")\r\n",
        "Sol_S = np.linalg.solve(X,Val) #Nos permite resolver un sistema de ecuaciones, puede ser mayor a 3\r\n",
        "print(Sol_S)"
      ],
      "execution_count": 6,
      "outputs": [
        {
          "output_type": "stream",
          "text": [
            "[[ 5 -3 -1]\n",
            " [ 1  4 -6]\n",
            " [ 2  3  4]]\n",
            "------------\n",
            "[ 1 -1  9]\n",
            "------------\n",
            "[1. 1. 1.]\n"
          ],
          "name": "stdout"
        }
      ]
    }
  ]
}