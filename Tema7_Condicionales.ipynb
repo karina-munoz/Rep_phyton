{
  "nbformat": 4,
  "nbformat_minor": 0,
  "metadata": {
    "colab": {
      "name": "Tema7_Condicionales.ipynb",
      "provenance": [],
      "authorship_tag": "ABX9TyNWCHBfQlppfPX+j0Ai8rQj",
      "include_colab_link": true
    },
    "kernelspec": {
      "name": "python3",
      "display_name": "Python 3"
    }
  },
  "cells": [
    {
      "cell_type": "markdown",
      "metadata": {
        "id": "view-in-github",
        "colab_type": "text"
      },
      "source": [
        "<a href=\"https://colab.research.google.com/github/karina-munoz/Rep_phyton/blob/main/Tema7_Condicionales.ipynb\" target=\"_parent\"><img src=\"https://colab.research.google.com/assets/colab-badge.svg\" alt=\"Open In Colab\"/></a>"
      ]
    },
    {
      "cell_type": "markdown",
      "metadata": {
        "id": "TkIklNHRluQw"
      },
      "source": [
        "#Condicionales"
      ]
    },
    {
      "cell_type": "code",
      "metadata": {
        "colab": {
          "base_uri": "https://localhost:8080/"
        },
        "id": "15Jwo-9wlw-y",
        "outputId": "413c9b89-5761-4f75-8882-526f6ed2a280"
      },
      "source": [
        "# CÓDIGO QUE SIEMPRE SE EJECUTA\r\n",
        "\r\n",
        "if True:                  # NUNCA olvides poner los dos puntos \":\" al final de una condición.\r\n",
        "  print(\"Hola\")       # También debe haber sangría en la acción, para estar seguro donde empezar a escribir\r\n",
        "                      # puedes mantener el cursor después de los dos puntos y dar enter."
      ],
      "execution_count": 1,
      "outputs": [
        {
          "output_type": "stream",
          "text": [
            "Hola\n"
          ],
          "name": "stdout"
        }
      ]
    },
    {
      "cell_type": "code",
      "metadata": {
        "colab": {
          "base_uri": "https://localhost:8080/"
        },
        "id": "t2QkKjuCn6aZ",
        "outputId": "4c9243d2-f5f8-4072-85a2-bc7d16f9547f"
      },
      "source": [
        "# Programa que siempre ejecutará el else\r\n",
        "\r\n",
        "if False:\r\n",
        "  print(\"Hola\")\r\n",
        "else:\r\n",
        "  print(\"Adiós\")"
      ],
      "execution_count": 2,
      "outputs": [
        {
          "output_type": "stream",
          "text": [
            "Adiós\n"
          ],
          "name": "stdout"
        }
      ]
    },
    {
      "cell_type": "code",
      "metadata": {
        "colab": {
          "base_uri": "https://localhost:8080/"
        },
        "id": "8OOigeBOoB41",
        "outputId": "428cc45e-5506-4784-cf8f-6ff07c96428c"
      },
      "source": [
        "# Ejemplo Práctico\r\n",
        "\r\n",
        "print(\"Bienvenido a club pingüin\")\r\n",
        "print(\" \")\r\n",
        "\r\n",
        "edad = 12\r\n",
        "print(\"Tienes \" + str(edad) + \" años\")\r\n",
        "\r\n",
        "if edad < 18:                                 # RECUERDA LOS OPERADORES \r\n",
        "  print(\"Necesitas permiso de tus padres\")\r\n",
        "else: \r\n",
        "  print(\"Crear cuenta\")\r\n",
        "\r\n",
        "\r\n",
        "# INTENTA CAMBIAR EL VALOR DE EDAD Y LA CONDICIÓN VARIAS VECES PARA VER QUÉ SUCEDE"
      ],
      "execution_count": 5,
      "outputs": [
        {
          "output_type": "stream",
          "text": [
            "Bienvenido a club pingüin\n",
            " \n",
            "Tienes 12 años\n",
            "Necesitas permiso de tus padres\n"
          ],
          "name": "stdout"
        }
      ]
    },
    {
      "cell_type": "code",
      "metadata": {
        "colab": {
          "base_uri": "https://localhost:8080/"
        },
        "id": "0N_hZMqpoY9J",
        "outputId": "bfa25be1-874d-49b5-a16f-102fc6ef854e"
      },
      "source": [
        "Cámara = True\r\n",
        "Micrófono = False\r\n",
        "\r\n",
        "if Cámara == True and Micrófono == True:\r\n",
        "  print(\"Puedes grabar\")\r\n",
        "else:\r\n",
        "  print(\"No puedes grabar\")"
      ],
      "execution_count": 7,
      "outputs": [
        {
          "output_type": "stream",
          "text": [
            "No puedes grabar\n"
          ],
          "name": "stdout"
        }
      ]
    },
    {
      "cell_type": "markdown",
      "metadata": {
        "id": "s3cmOBgZpblf"
      },
      "source": [
        "# ELIF"
      ]
    },
    {
      "cell_type": "code",
      "metadata": {
        "colab": {
          "base_uri": "https://localhost:8080/"
        },
        "id": "X1Ha3BvooHrP",
        "outputId": "94996371-5f22-4023-e336-418e9c969f83"
      },
      "source": [
        "Hambre = True\r\n",
        "Sed = False\r\n",
        "\r\n",
        "if not Hambre:                 # CON \"not\" cambias el valor booleano, not True = False y not False = True\r\n",
        "  print(\"Come algo\")\r\n",
        "elif not Sed:\r\n",
        "  print(\"Bebe algo\")\r\n",
        "else:\r\n",
        "  print(\"Estás satisfecho\")"
      ],
      "execution_count": 6,
      "outputs": [
        {
          "output_type": "stream",
          "text": [
            "Bebe algo\n"
          ],
          "name": "stdout"
        }
      ]
    },
    {
      "cell_type": "markdown",
      "metadata": {
        "id": "4Lin6s7tppVh"
      },
      "source": [
        "#OR Y AND"
      ]
    },
    {
      "cell_type": "code",
      "metadata": {
        "colab": {
          "base_uri": "https://localhost:8080/"
        },
        "id": "zMfdvXZWptJW",
        "outputId": "2f9e4ac7-5e30-478f-8fc2-1ed4fdc1e8f7"
      },
      "source": [
        "Carne = \"Doble triple\"\r\n",
        "Salsa = \"De Coral\"\r\n",
        "Decorado = \"De lujo\"\r\n",
        "Estilo = \"Animal\"\r\n",
        "Guijarros = \"Extra\"\r\n",
        "Vibración = \"Exprimida\"\r\n",
        "Eje = \"Con grasa ligera\"\r\n",
        "Hazlo = \"Llorar\"\r\n",
        "Quémalo = \"Sí\"\r\n",
        "Nadando = \"Sí\"\r\n",
        "Pepinillos = \"Sí\"\r\n",
        "\r\n",
        "#OJO Si quieres pasar de renglón y continuar la condición debes encerrar todo entre paréntesis \"( )\"\r\n",
        "\r\n",
        "if (Carne == \"Doble triple\" and \r\n",
        "Salsa == \"De Coral\" and\r\n",
        "Decorado == \"De lujo\" and\r\n",
        "Estilo == \"Animal\" and \r\n",
        "Guijarros == \"Extra\" and\r\n",
        "Vibración == \"Exprimida\" and\r\n",
        "Eje == \"Con grasa ligera\" and \r\n",
        "Hazlo == \"Llorar\" and\r\n",
        "Quémalo == \"Sí\" and\r\n",
        "Nadando == \"Sí\" and\r\n",
        "Pepinillos == \"No\"):\r\n",
        "  print(\"Quiere la kangreburguer\")\r\n",
        "else:\r\n",
        "  print(\"No quiere la kangrebuger\")"
      ],
      "execution_count": 9,
      "outputs": [
        {
          "output_type": "stream",
          "text": [
            "No quiere la kangrebuger\n"
          ],
          "name": "stdout"
        }
      ]
    },
    {
      "cell_type": "code",
      "metadata": {
        "colab": {
          "base_uri": "https://localhost:8080/"
        },
        "id": "vlQg4TLJqCaA",
        "outputId": "dc71b699-8295-42fa-ecd2-b11341d4692a"
      },
      "source": [
        "\r\n",
        "Carne_doble_triple = True\r\n",
        "Salsa_de_coral = True \r\n",
        "Decorado_de_lujo = True\r\n",
        "Estilo_animal = True \r\n",
        "Guijarros_extra = True\r\n",
        "Vibración_exprimida = True\r\n",
        "Eje_con_grasa_ligera = True\r\n",
        "Hazlo_llorar = True\r\n",
        "Quemado = True \r\n",
        "Nadando = True\r\n",
        "Pepinillos = True\r\n",
        "\r\n",
        "\r\n",
        "if (Carne_doble_triple and \r\n",
        "Salsa_de_coral and\r\n",
        "Decorado_de_lujo and\r\n",
        "Estilo_animal and \r\n",
        "Guijarros_extra and\r\n",
        "Vibración_exprimida and\r\n",
        "Eje_con_grasa_ligera and \r\n",
        "Hazlo_llorar and\r\n",
        "Quemado and\r\n",
        "Nadando and\r\n",
        "Pepinillos ):\r\n",
        "  print(\"Quiere la kangreburguer\")\r\n",
        "else:\r\n",
        "  print(\"No quiere la kangrebuger\")"
      ],
      "execution_count": 10,
      "outputs": [
        {
          "output_type": "stream",
          "text": [
            "Quiere la kangreburguer\n"
          ],
          "name": "stdout"
        }
      ]
    },
    {
      "cell_type": "markdown",
      "metadata": {
        "id": "7wOo6beBqEn5"
      },
      "source": [
        "#Tarea"
      ]
    },
    {
      "cell_type": "code",
      "metadata": {
        "colab": {
          "base_uri": "https://localhost:8080/"
        },
        "id": "fdNgWGODqKFp",
        "outputId": "6d047e7f-c3e1-4a43-c310-218956359152"
      },
      "source": [
        "#Para la tarea debes copiar el código anterior, cambiar el condicional de tal manera que ahora\r\n",
        "#solo una condición debe ser verdadera para que se ejecute el primer print\r\n",
        "\r\n",
        "Carne = \"Doble triple\"\r\n",
        "Salsa = \"De Coral\"\r\n",
        "Decorado = \"De lujo\"\r\n",
        "Estilo = \"Animal\"\r\n",
        "Guijarros = \"Extra\"\r\n",
        "Vibración = \"Exprimida\"\r\n",
        "Eje = \"Con grasa ligera\"\r\n",
        "Hazlo = \"Llorar\"\r\n",
        "Quémalo = \"Sí\"\r\n",
        "Nadando = \"Sí\"\r\n",
        "Pepinillos = \"Sí\"\r\n",
        "\r\n",
        "if (Carne == \"Doble triple\" or\r\n",
        "Salsa == \"De Coral\" or\r\n",
        "Decorado == \"De lujo\" or\r\n",
        "Estilo == \"Animal\" or\r\n",
        "Guijarros == \"Extra\" or\r\n",
        "Vibración == \"Exprimida\" or\r\n",
        "Eje == \"Con grasa ligera\" or \r\n",
        "Hazlo == \"Llorar\" or\r\n",
        "Quémalo == \"Sí\" or\r\n",
        "Nadando == \"Sí\" or\r\n",
        "Pepinillos == \"No\"):\r\n",
        "  print(\"Quiere la kangreburguer\")\r\n",
        "else:\r\n",
        "  print(\"No quiere la kangrebuger\")"
      ],
      "execution_count": 11,
      "outputs": [
        {
          "output_type": "stream",
          "text": [
            "Quiere la kangreburguer\n"
          ],
          "name": "stdout"
        }
      ]
    }
  ]
}