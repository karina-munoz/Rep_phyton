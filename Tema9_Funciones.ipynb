{
  "nbformat": 4,
  "nbformat_minor": 0,
  "metadata": {
    "colab": {
      "name": "Tema9-Funciones.ipynb",
      "provenance": [],
      "authorship_tag": "ABX9TyOgXRmX4azw0jr4goyaXCxP",
      "include_colab_link": true
    },
    "kernelspec": {
      "name": "python3",
      "display_name": "Python 3"
    }
  },
  "cells": [
    {
      "cell_type": "markdown",
      "metadata": {
        "id": "view-in-github",
        "colab_type": "text"
      },
      "source": [
        "<a href=\"https://colab.research.google.com/github/karina-munoz/Rep_phyton/blob/main/Tema9_Funciones.ipynb\" target=\"_parent\"><img src=\"https://colab.research.google.com/assets/colab-badge.svg\" alt=\"Open In Colab\"/></a>"
      ]
    },
    {
      "cell_type": "markdown",
      "metadata": {
        "id": "HeGicDVwT29T"
      },
      "source": [
        "#Funciones"
      ]
    },
    {
      "cell_type": "code",
      "metadata": {
        "id": "WpGUlyG_T5vX"
      },
      "source": [
        "# Esta funcion imprime dos mensajes y realiza una operacion pero no regresa ni recibe algun valor\r\n",
        "# Es posible llamaar a la funcion con su nombre seguido de parentesis la cantidad de veces que deseemos\r\n",
        "def fun_1():\r\n",
        "  print(\"Hola mundo\")\r\n",
        "  print(\"Bienvenidos\")\r\n",
        "  a = 2\r\n",
        "  b = 3\r\n",
        "  c = a * b\r\n",
        "  print(\"a * b = \", c)"
      ],
      "execution_count": 2,
      "outputs": []
    },
    {
      "cell_type": "code",
      "metadata": {
        "colab": {
          "base_uri": "https://localhost:8080/"
        },
        "id": "9J5Q4BHEXszp",
        "outputId": "62cddcc1-724f-4e7d-b1c6-dec56cdb92d5"
      },
      "source": [
        "fun_1()\r\n",
        "#fun_1()\r\n",
        "#fun_1()"
      ],
      "execution_count": 3,
      "outputs": [
        {
          "output_type": "stream",
          "text": [
            "Hola mundo\n",
            "Bienvenidos\n",
            "a * b =  6\n"
          ],
          "name": "stdout"
        }
      ]
    },
    {
      "cell_type": "code",
      "metadata": {
        "id": "sItDzHvSXvMf"
      },
      "source": [
        "# Recibe dos variables (pero puede recibir mas) y con ellas realiza una operacion que se imprime pero aun no nos regresa algun valor\r\n",
        "def fun_2(a,b):\r\n",
        "  print(\"Hola mundo\")\r\n",
        "  #print(\"Bienvenidos\")\r\n",
        "  #a = 2\r\n",
        "  #b = 3\r\n",
        "  c = a * b\r\n",
        "  print(\"a * b = \", c)"
      ],
      "execution_count": 4,
      "outputs": []
    },
    {
      "cell_type": "code",
      "metadata": {
        "colab": {
          "base_uri": "https://localhost:8080/"
        },
        "id": "prz6Hwk-Xyxk",
        "outputId": "0fd2f09c-1be1-4e74-e1aa-118113a37e74"
      },
      "source": [
        "f = 6\r\n",
        "e = 2\r\n",
        "\r\n",
        "#fun_2(f,e)\r\n",
        "#fun_2(f,1)\r\n",
        "#fun_2(f,3)\r\n",
        "x = fun_2(f,e)\r\n",
        "print(x)\r\n",
        "print(type(x))"
      ],
      "execution_count": 5,
      "outputs": [
        {
          "output_type": "stream",
          "text": [
            "Hola mundo\n",
            "a * b =  12\n",
            "None\n",
            "<class 'NoneType'>\n"
          ],
          "name": "stdout"
        }
      ]
    },
    {
      "cell_type": "code",
      "metadata": {
        "id": "ebg5Qk2LX208"
      },
      "source": [
        "# Esta funcion nos regresa la multiplicacion de a * b\r\n",
        "def fun_3(a,b):\r\n",
        "  print(\"Hola mundo\")\r\n",
        "  c = a * b\r\n",
        "  #print(\"a * b = \", a * b)\r\n",
        "  print(\"a * b = \", a * b)\r\n",
        "  return c"
      ],
      "execution_count": 18,
      "outputs": []
    },
    {
      "cell_type": "code",
      "metadata": {
        "colab": {
          "base_uri": "https://localhost:8080/"
        },
        "id": "HGFE9W20X8VW",
        "outputId": "07e44694-e8a2-4352-f23b-f5751314ccfa"
      },
      "source": [
        "mult = fun_3(f,e)\r\n",
        "print(type(mult))"
      ],
      "execution_count": 19,
      "outputs": [
        {
          "output_type": "stream",
          "text": [
            "Hola mundo\n",
            "a * b =  12\n",
            "<class 'int'>\n"
          ],
          "name": "stdout"
        }
      ]
    },
    {
      "cell_type": "code",
      "metadata": {
        "id": "MlU4da1gX_do"
      },
      "source": [
        "# Esta funcion nos regresa la multiplicacion de a * b de forma int y de tipo string, ademas regresa una lista\r\n",
        "# Por lo que es posible que una funcion regrese diferentes tipos de variables \r\n",
        "# Tambien aqui notamos que una funcion puede tener como entradas variables de diferente tipo en este caso dos de entero y uno de string \r\n",
        "def fun_4(a,b,d):\r\n",
        "  print(\"Hola mundo\")\r\n",
        "  c = a * b\r\n",
        "  print(\"a * b = \", a * b)\r\n",
        "  f = \"Hola \" + d\r\n",
        "  print(f)\r\n",
        "  c_s = str(c)\r\n",
        "  lista = [1.4,2.7,3.5]\r\n",
        "  return c, c_s, lista"
      ],
      "execution_count": 22,
      "outputs": []
    },
    {
      "cell_type": "code",
      "metadata": {
        "colab": {
          "base_uri": "https://localhost:8080/"
        },
        "id": "VRKvziSHYIFR",
        "outputId": "29196beb-d77e-4e21-d0dd-e1409d9bef1e"
      },
      "source": [
        "Valores = fun_4(f,e,\"Uriel\")\r\n",
        "#print(type(Valores))\r\n",
        "#print(type(Valores[0]))\r\n",
        "#print(type(Valores[1]))\r\n",
        "#print(type(Valores[2]))\r\n",
        "Entero, String, Lista = fun_4(f,e,\"Uriel\")\r\n",
        "if Entero == Valores[0]:\r\n",
        "  print(\"Son iguales\")"
      ],
      "execution_count": 23,
      "outputs": [
        {
          "output_type": "stream",
          "text": [
            "Hola mundo\n",
            "a * b =  12\n",
            "Hola Uriel\n",
            "Hola mundo\n",
            "a * b =  12\n",
            "Hola Uriel\n",
            "Son iguales\n"
          ],
          "name": "stdout"
        }
      ]
    },
    {
      "cell_type": "code",
      "metadata": {
        "id": "SVlQR9mtbxMJ"
      },
      "source": [
        "\r\n",
        "# Podemos asignar valores por defecto a los parametros de la funcion\r\n",
        "def fun_5(a = 2,b = 3,d = \"Uriel\"):\r\n",
        "  print(\"Hola mundo\")\r\n",
        "  c = a * b\r\n",
        "  print(\"a * b = \", a * b)\r\n",
        "  f = \"Hola \" + d\r\n",
        "  print(f)\r\n",
        "  c_s = str(c)\r\n",
        "  lista = [1.4,2.7,3.5]\r\n",
        "  return c, c_s, lista"
      ],
      "execution_count": 24,
      "outputs": []
    },
    {
      "cell_type": "code",
      "metadata": {
        "colab": {
          "base_uri": "https://localhost:8080/"
        },
        "id": "Y9vhrOYhbz0Z",
        "outputId": "68d13e82-b19c-4b5b-e327-96c893ef1433"
      },
      "source": [
        "Prueba = fun_5(e,f,\"Juanito\")"
      ],
      "execution_count": 25,
      "outputs": [
        {
          "output_type": "stream",
          "text": [
            "Hola mundo\n",
            "a * b =  12\n",
            "Hola Juanito\n"
          ],
          "name": "stdout"
        }
      ]
    },
    {
      "cell_type": "code",
      "metadata": {
        "id": "Yz0t86Iqcsp2"
      },
      "source": [
        "# Ahora la funcion tambien imprime los valores de a y b\r\n",
        "def fun_6(a = 2,b = 3,d = \"Uriel\"):\r\n",
        "  print(\"Hola mundo\")\r\n",
        "  c = a * b\r\n",
        "  print(str(a)+ \" * \" + str(b) + \" =\", a * b)\r\n",
        "  f = \"Hola \" + d\r\n",
        "  print(f)\r\n",
        "  c_s = str(c)\r\n",
        "  lista = [1.4,2.7,3.5]\r\n",
        "  return c, c_s, lista"
      ],
      "execution_count": 26,
      "outputs": []
    },
    {
      "cell_type": "code",
      "metadata": {
        "colab": {
          "base_uri": "https://localhost:8080/"
        },
        "id": "ikwpfU-pcuAe",
        "outputId": "994d6331-e457-49ba-c8ea-e87aaf9611a0"
      },
      "source": [
        "Prueba_2 = fun_6(10,2,\"Juanito\")"
      ],
      "execution_count": 27,
      "outputs": [
        {
          "output_type": "stream",
          "text": [
            "Hola mundo\n",
            "10 * 2 = 20\n",
            "Hola Juanito\n"
          ],
          "name": "stdout"
        }
      ]
    }
  ]
}